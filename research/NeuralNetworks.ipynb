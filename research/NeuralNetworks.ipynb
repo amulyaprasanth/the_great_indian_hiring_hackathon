{
 "cells": [
  {
   "cell_type": "markdown",
   "id": "16a757e4-dec0-4cbc-9cf8-3c94912ef394",
   "metadata": {},
   "source": [
    "# Neural Network trails\n",
    "\n",
    "In this notebook, We will train various neural networks on the data."
   ]
  },
  {
   "cell_type": "code",
   "execution_count": null,
   "id": "bb923403-4e09-4167-9610-0006e6fab588",
   "metadata": {},
   "outputs": [],
   "source": []
  }
 ],
 "metadata": {
  "kernelspec": {
   "display_name": "Python 3 (ipykernel)",
   "language": "python",
   "name": "python3"
  },
  "language_info": {
   "codemirror_mode": {
    "name": "ipython",
    "version": 3
   },
   "file_extension": ".py",
   "mimetype": "text/x-python",
   "name": "python",
   "nbconvert_exporter": "python",
   "pygments_lexer": "ipython3",
   "version": "3.11.0"
  }
 },
 "nbformat": 4,
 "nbformat_minor": 5
}
